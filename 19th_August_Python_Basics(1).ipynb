{
 "cells": [
  {
   "cell_type": "code",
   "execution_count": 23,
   "metadata": {
    "colab": {
     "base_uri": "https://localhost:8080/"
    },
    "id": "w_uXhuzqWYLV",
    "outputId": "caeebab3-ca6f-4f81-f871-7efd821a07c8"
   },
   "outputs": [
    {
     "name": "stdout",
     "output_type": "stream",
     "text": [
      "before swap a:5 and b:3\n",
      "after swap a:3 and b:5\n"
     ]
    }
   ],
   "source": [
    "#  Create a p Declare two variables, `x` and `y`, and assign them integer values. Swap the values of these variables without using any temporary variable.\n",
    "\n",
    "a = 5\n",
    "b = 3\n",
    "def swap_variables(a,b):\n",
    " print(f\"before swap a:{a} and b:{b}\")\n",
    " a,b = b,a\n",
    " print(f\"after swap a:{a} and b:{b}\")\n",
    "swap_variables(a,b)\n"
   ]
  },
  {
   "cell_type": "code",
   "execution_count": 24,
   "metadata": {
    "colab": {
     "base_uri": "https://localhost:8080/"
    },
    "id": "YwbpJBuRb_gr",
    "outputId": "bf7f2d0e-1663-4de6-ba5a-98b00637a3be"
   },
   "outputs": [
    {
     "name": "stdout",
     "output_type": "stream",
     "text": [
      "enter the lenght of rectangle:7\n",
      "enter the width of rectangle:2\n",
      "area of rectangle is 14.0\n"
     ]
    }
   ],
   "source": [
    "# Create a program that calculates the area of a rectangle. Take the length and width as inputs from the user and store them in variables. Calculate and display the area.\n",
    "lenth = float(input(\"enter the lenght of rectangle:\"))\n",
    "width = float(input(\"enter the width of rectangle:\"))\n",
    "area = lenth*width\n",
    "print(\"area of rectangle is\" , area)\n"
   ]
  },
  {
   "cell_type": "code",
   "execution_count": 26,
   "metadata": {
    "colab": {
     "base_uri": "https://localhost:8080/"
    },
    "id": "ul5NRBQ1dUs6",
    "outputId": "74998980-b983-4e0f-c470-b89de56c5217"
   },
   "outputs": [
    {
     "name": "stdout",
     "output_type": "stream",
     "text": [
      "enter temperature in celcius :32\n",
      "temperature in fahrenheit is 89.6\n"
     ]
    }
   ],
   "source": [
    "# Write a Python program that converts temperatures from Celsius to Fahrenheit. Take the temperature in Celsius as input, store it in a variable, convert it to Fahrenheit, and display the result.\n",
    "c = float(input(\"enter temperature in celcius :\"))\n",
    "fahrenheit = (9/5)*c + 32\n",
    "print(\"temperature in fahrenheit is\" , fahrenheit)"
   ]
  },
  {
   "cell_type": "code",
   "execution_count": 1,
   "metadata": {
    "colab": {
     "base_uri": "https://localhost:8080/"
    },
    "id": "phzvKmRbe46g",
    "outputId": "e1b23861-a7bc-4b36-e506-543f658e2099"
   },
   "outputs": [
    {
     "name": "stdin",
     "output_type": "stream",
     "text": [
      "enter a string or a word: type\n"
     ]
    },
    {
     "name": "stdout",
     "output_type": "stream",
     "text": [
      "lenth of the string is 4\n"
     ]
    }
   ],
   "source": [
    "#  Write a Python program that takes a string as input and prints the length of the string.\n",
    "string = str(input(\"enter a string or a word:\"))\n",
    "length_string = len(string)\n",
    "print(\"lenth of the string is\" , length_string)"
   ]
  },
  {
   "cell_type": "code",
   "execution_count": 12,
   "metadata": {},
   "outputs": [
    {
     "name": "stdin",
     "output_type": "stream",
     "text": [
      "enter sentence: i dont know\n"
     ]
    },
    {
     "name": "stdout",
     "output_type": "stream",
     "text": [
      "Number of vowels: 3\n"
     ]
    }
   ],
   "source": [
    "#Create a program that takes a sentence from the user and counts the number of vowels (a, e, i, o, u) in the string. \n",
    "\n",
    "sentence = input(\"enter sentence:\")\n",
    "vowel_count = 0\n",
    "for char in sentence:\n",
    "      char_lower = char.lower()\n",
    "\n",
    "      if char_lower in \"aeiou\":\n",
    "\n",
    "        vowel_count += 1\n",
    "\n",
    "\n",
    "print(\"Number of vowels:\", vowel_count)"
   ]
  },
  {
   "cell_type": "code",
   "execution_count": 14,
   "metadata": {},
   "outputs": [
    {
     "name": "stdin",
     "output_type": "stream",
     "text": [
      "enter string: nothing\n"
     ]
    },
    {
     "name": "stdout",
     "output_type": "stream",
     "text": [
      "reversed string: gnihton\n"
     ]
    }
   ],
   "source": [
    "# Given a string, reverse the order of characters using string slicing and print the reversed string.\n",
    "input_string = input(\"enter string:\")\n",
    "reversed_string = input_string[::-1]\n",
    "print(\"reversed string:\" , reversed_string)"
   ]
  },
  {
   "cell_type": "code",
   "execution_count": 15,
   "metadata": {},
   "outputs": [
    {
     "name": "stdin",
     "output_type": "stream",
     "text": [
      "Enter a string:  spelling\n"
     ]
    },
    {
     "name": "stdout",
     "output_type": "stream",
     "text": [
      "The input string is not a palindrome.\n"
     ]
    }
   ],
   "source": [
    "#Write a program that takes a string as input and checks if it is a palindrome \n",
    "\n",
    "input_string = input(\"Enter a string: \")\n",
    "\n",
    "\n",
    "cleaned_string = input_string.replace(\" \", \"\").lower()\n",
    "\n",
    "\n",
    "reversed_string = cleaned_string[::-1]\n",
    "\n",
    "\n",
    "if cleaned_string == reversed_string:\n",
    "    \n",
    "    print(\"The input string is a palindrome.\")\n",
    "    \n",
    "else:\n",
    "    \n",
    "    print(\"The input string is not a palindrome.\")"
   ]
  },
  {
   "cell_type": "code",
   "execution_count": 21,
   "metadata": {},
   "outputs": [
    {
     "name": "stdin",
     "output_type": "stream",
     "text": [
      "Enter a string:  no bo dy\n"
     ]
    },
    {
     "name": "stdout",
     "output_type": "stream",
     "text": [
      "Modified string without spaces: nobody\n"
     ]
    }
   ],
   "source": [
    "# Create a program that takes a string as input and removes all the spaces from it. Print the modified string without spaces.\n",
    "input_string = input(\"Enter a string: \")\n",
    "\n",
    "\n",
    "modified_string = \"\"\n",
    "\n",
    "for char in input_string:\n",
    "    \n",
    "    if char != \" \":\n",
    "        \n",
    "        modified_string += char\n",
    "\n",
    "\n",
    "print(\"Modified string without spaces:\", modified_string)"
   ]
  },
  {
   "cell_type": "code",
   "execution_count": null,
   "metadata": {},
   "outputs": [],
   "source": []
  }
 ],
 "metadata": {
  "colab": {
   "provenance": []
  },
  "kernelspec": {
   "display_name": "Python 3 (ipykernel)",
   "language": "python",
   "name": "python3"
  },
  "language_info": {
   "codemirror_mode": {
    "name": "ipython",
    "version": 3
   },
   "file_extension": ".py",
   "mimetype": "text/x-python",
   "name": "python",
   "nbconvert_exporter": "python",
   "pygments_lexer": "ipython3",
   "version": "3.10.8"
  }
 },
 "nbformat": 4,
 "nbformat_minor": 4
}
